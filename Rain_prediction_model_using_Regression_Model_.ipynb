{
  "nbformat": 4,
  "nbformat_minor": 0,
  "metadata": {
    "colab": {
      "provenance": [],
      "authorship_tag": "ABX9TyOsvxt1x0ydXi/L0A2ul3CD",
      "include_colab_link": true
    },
    "kernelspec": {
      "name": "python3",
      "display_name": "Python 3"
    },
    "language_info": {
      "name": "python"
    }
  },
  "cells": [
    {
      "cell_type": "markdown",
      "metadata": {
        "id": "view-in-github",
        "colab_type": "text"
      },
      "source": [
        "<a href=\"https://colab.research.google.com/github/KushiBetaraju/Real-Time-Weather-Forecasting-Model-using-Python/blob/main/Rain_prediction_model_using_Regression_Model_.ipynb\" target=\"_parent\"><img src=\"https://colab.research.google.com/assets/colab-badge.svg\" alt=\"Open In Colab\"/></a>"
      ]
    },
    {
      "cell_type": "code",
      "source": [
        "import pandas as pd\n",
        "from sklearn.model_selection import train_test_split\n",
        "from sklearn.linear_model import LogisticRegression\n",
        "from sklearn.metrics import mean_squared_error\n",
        "\n",
        "# Step 1: Load the data\n",
        "data = pd.read_csv(\"/content/cleaned_weather.csv\")\n",
        "\n",
        "# Step 2: Convert 'rain' column to 0 and 1 (no rain = 0, rain = 1)\n",
        "rain_values = []\n",
        "for value in data['rain']:\n",
        "    if value > 0:\n",
        "        rain_values.append(1)\n",
        "    else:\n",
        "        rain_values.append(0)\n",
        "\n",
        "data['rain'] = rain_values\n",
        "\n",
        "# Step 3: Select features and target\n",
        "X = data[['rh', 'T', 'VPact']]  # Input features\n",
        "y = data['rain']               # Target variable\n",
        "\n",
        "# Step 4: Remove missing values\n",
        "X = X.dropna()\n",
        "y = y[X.index]\n",
        "\n",
        "# Step 5: Split the data (70% train, 30% test)\n",
        "X_train, X_test, y_train, y_test = train_test_split(X, y, test_size=0.3, random_state=1)\n",
        "\n",
        "# Step 6: Train the model\n",
        "model = LogisticRegression()\n",
        "model.fit(X_train, y_train)\n",
        "\n",
        "# Step 7: Predict on test data\n",
        "predicted = model.predict(X_test)\n",
        "\n",
        "# Step 8: Calculate and display Mean Squared Error\n",
        "mse = mean_squared_error(y_test, predicted)\n",
        "print(\"Mean Squared Error:\", mse)\n"
      ],
      "metadata": {
        "id": "cFAdfZqdu4kU",
        "colab": {
          "base_uri": "https://localhost:8080/"
        },
        "outputId": "16ff86fb-8769-44b8-d1a8-7322d4750da1"
      },
      "execution_count": 8,
      "outputs": [
        {
          "output_type": "stream",
          "name": "stdout",
          "text": [
            "Mean Squared Error: 0.03586564615092669\n"
          ]
        }
      ]
    },
    {
      "cell_type": "code",
      "source": [
        "# Import necessary libraries\n",
        "import pandas as pd  # For handling datasets\n",
        "from sklearn.model_selection import train_test_split  # For splitting data into train and test\n",
        "from sklearn.linear_model import LogisticRegression  # For building the classification model\n",
        "from sklearn.metrics import mean_squared_error  # For evaluating model performance\n",
        "import kagglehub\n",
        "\n",
        "# ----------------------------\n",
        "# Step 1: Load the Dataset\n",
        "# ----------------------------\n",
        "# Download dataset from Kaggle using kagglehub\n",
        "# Dataset: https://www.kaggle.com/datasets/alistairking/weather-long-term-time-series-forecasting\n",
        "path = kagglehub.dataset_download(\"alistairking/weather-long-term-time-series-forecasting\")\n",
        "\n",
        "print(\"📂 Dataset downloaded to:\", path)\n",
        "\n",
        "# Step 3: Load the CSV file (choose appropriate file from downloaded folder)\n",
        "file_path = path + \"/cleaned_weather.csv\"  # Adjust the file name if different\n",
        "data = pd.read_csv(file_path)\n",
        "\n",
        "# ----------------------------\n",
        "# Step 2: Preprocess 'rain' Column\n",
        "# ----------------------------\n",
        "\n",
        "# Convert 'rain' values into binary:\n",
        "# - 1 if it rained (rainfall > 0)\n",
        "# - 0 if no rain\n",
        "rain_values = []\n",
        "for value in data['rain']:\n",
        "    if value > 0:\n",
        "        rain_values.append(1)\n",
        "    else:\n",
        "        rain_values.append(0)\n",
        "\n",
        "# Update the column with binary values\n",
        "data['rain'] = rain_values\n",
        "\n",
        "# ----------------------------\n",
        "# Step 3: Select Features and Target\n",
        "# ----------------------------\n",
        "\n",
        "# Select input features (X) and the target variable (y)\n",
        "# Features: relative humidity (rh), temperature (T), and pressure (p)\n",
        "X = data[['rh', 'T', 'p']]  # Independent variables\n",
        "y = data['rain']           # Dependent variable\n",
        "\n",
        "# ----------------------------\n",
        "# Step 4: Handle Missing Values\n",
        "# ----------------------------\n",
        "\n",
        "# Drop rows with any missing values in X\n",
        "X = X.dropna()\n",
        "# Ensure y matches the filtered rows of X\n",
        "y = y[X.index]\n",
        "\n",
        "# ----------------------------\n",
        "# Step 5: Split Dataset\n",
        "# ----------------------------\n",
        "\n",
        "# Split the dataset into 70% training and 30% testing\n",
        "X_train, X_test, y_train, y_test = train_test_split(X, y, test_size=0.3, random_state=1)\n",
        "\n",
        "# ----------------------------\n",
        "# Step 6: Train the Model\n",
        "# ----------------------------\n",
        "\n",
        "# Initialize and train the logistic regression model\n",
        "model = LogisticRegression()\n",
        "model.fit(X_train, y_train)\n",
        "\n",
        "# ----------------------------\n",
        "# Step 7: Evaluate the Model\n",
        "# ----------------------------\n",
        "\n",
        "# Make predictions on the test set\n",
        "predicted = model.predict(X_test)\n",
        "\n",
        "# Calculate Mean Squared Error (MSE) to evaluate prediction error\n",
        "mse = mean_squared_error(y_test, predicted)\n",
        "print(\"✅ Model trained successfully.\")\n",
        "print(\"📊 Mean Squared Error (MSE):\", mse)\n",
        "\n",
        "# ----------------------------\n",
        "# Step 8: Real-Time User Input Prediction\n",
        "# ----------------------------\n",
        "\n",
        "print(\"\\n🔎 Enter real-time weather data to predict rain:\")\n",
        "\n",
        "# Get real-time weather input from user\n",
        "humidity = float(input(\"Enter Humidity (rh %)           : \"))\n",
        "temperature = float(input(\"Enter Temperature (°C)          : \"))\n",
        "p = float(input(\"Enter Atmospheric Pressure (mbar): \"))\n",
        "\n",
        "# Create a DataFrame with the user's input for prediction\n",
        "input_data = pd.DataFrame([[humidity, temperature, p]], columns=['rh', 'T', 'p'])\n",
        "\n",
        "# Predict using the trained model\n",
        "prediction = model.predict(input_data)\n",
        "\n",
        "# Display the prediction result\n",
        "if prediction[0] == 1:\n",
        "    print(\"\\n🌧️ Prediction: It is likely to RAIN.\")\n",
        "else:\n",
        "    print(\"\\n☀️ Prediction: No rain expected.\")\n"
      ],
      "metadata": {
        "colab": {
          "base_uri": "https://localhost:8080/"
        },
        "id": "CrpSVfwjUrgi",
        "outputId": "50aab6a5-24d0-463e-c54f-743e02ea9f92"
      },
      "execution_count": 14,
      "outputs": [
        {
          "output_type": "stream",
          "name": "stdout",
          "text": [
            "📂 Dataset downloaded to: /kaggle/input/weather-long-term-time-series-forecasting\n",
            "✅ Model trained successfully.\n",
            "📊 Mean Squared Error (MSE): 0.03586564615092669\n",
            "\n",
            "🔎 Enter real-time weather data to predict rain:\n",
            "Enter Humidity (rh %)           : 82\n",
            "Enter Temperature (°C)          : 24\n",
            "Enter Atmospheric Pressure (mbar): 1013\n",
            "\n",
            "☀️ Prediction: No rain expected.\n"
          ]
        }
      ]
    }
  ]
}